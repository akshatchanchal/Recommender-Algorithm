{
 "cells": [
  {
   "cell_type": "code",
   "execution_count": null,
   "metadata": {},
   "outputs": [],
   "source": [
    "import pandas as pd\n",
    "\n",
    "def gen():\n",
    "    with open('xaa', 'r',  encoding=\"utf8\") as f:\n",
    "        datum={}\n",
    "        citations =0\n",
    "        row=0\n",
    "        readFile = f.readlines()\n",
    "        for line in readFile:\n",
    "            \n",
    "            if '#index' in line:\n",
    "                if bool(datum):\n",
    "                    datum['citations'] = citations\n",
    "                    try:\n",
    "                        for i in range(len(datum['author'])):\n",
    "                            \n",
    "                            datum_to_save = datum.copy()\n",
    "                            datum_to_save['author']=datum['author'][i]\n",
    "                            datum_to_save['affiliation']=datum['affiliation'][i]\n",
    "                            yield datum_to_save\n",
    "                            row+=1\n",
    "                    except IndexError as e:\n",
    "                        continue\n",
    "                    \n",
    "                    datum={}\n",
    "                    citations =0\n",
    "                datum['id'] = line[7:].rstrip()\n",
    "                \n",
    "            elif '#*' in line:\n",
    "                datum['title'] = line[3:].rstrip()\n",
    "            elif '#@' in line:\n",
    "                datum['author'] = line[3:].rstrip().rsplit(\";\")\n",
    "            elif '#o' in line:\n",
    "                datum['affiliation'] = line[3:].rstrip().rsplit(\";\")\n",
    "            elif '#t' in line:\n",
    "                datum['year'] = line[3:].rstrip()\n",
    "            elif '#c' in line:\n",
    "                datum['venue'] = line[3:].rstrip()\n",
    "            elif '#%' in line:\n",
    "                citations +=1\n",
    "            elif '#!' in line:\n",
    "                datum['abstract'] = line[3:].rstrip()\n",
    "\n",
    "\n",
    "data = pd.DataFrame(gen(), columns =('id', 'title', 'author', 'affiliation', 'year', \n",
    "                                  'venue', 'citations', 'abstract'))\n",
    "data['year'] =pd.to_numeric(data['year'], errors = 'coerce').fillna(0)\n",
    "y=data[data.year<=2005]\n",
    "z=y[y.year>=1996]"
   ]
  },
  {
   "cell_type": "code",
   "execution_count": null,
   "metadata": {},
   "outputs": [],
   "source": []
  }
 ],
 "metadata": {
  "kernelspec": {
   "display_name": "Python 3",
   "language": "python",
   "name": "python3"
  },
  "language_info": {
   "codemirror_mode": {
    "name": "ipython",
    "version": 3
   },
   "file_extension": ".py",
   "mimetype": "text/x-python",
   "name": "python",
   "nbconvert_exporter": "python",
   "pygments_lexer": "ipython3",
   "version": "3.7.3"
  }
 },
 "nbformat": 4,
 "nbformat_minor": 2
}
